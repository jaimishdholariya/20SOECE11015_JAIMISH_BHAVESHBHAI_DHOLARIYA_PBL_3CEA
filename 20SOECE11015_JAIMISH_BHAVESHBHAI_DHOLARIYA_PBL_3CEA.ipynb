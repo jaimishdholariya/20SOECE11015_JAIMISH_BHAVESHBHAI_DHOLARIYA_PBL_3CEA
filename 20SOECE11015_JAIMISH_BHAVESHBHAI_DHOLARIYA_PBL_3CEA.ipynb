{
 "cells": [
  {
   "cell_type": "code",
   "execution_count": 1,
   "metadata": {},
   "outputs": [],
   "source": [
    "#DHOLARIYA JAIMISH BHAVESHBHAI\n",
    "#20SOECE11015\n",
    "#3CEA\n",
    "#PBL\n",
    "import os\n",
    "import shutil\n",
    "\n",
    "path=input('enter your path')\n",
    "files=os.listdir(path)\n",
    "\n",
    "for file in files:\n",
    "    filename,extension=os.path.splitext(file)\n",
    "    extension=extension[1:]\n",
    "    if os.path.exists(path+'/'+extension):\n",
    "        shutil.move(path+'/'+file,path+'/'+extension+'/'+file)\n",
    "    else:\n",
    "        os.makedirs(path+'/'+extension)\n",
    "        shutil.move(path+'/'+file,path+'/'+extension+'/'+file)"
   ]
  },
  {
   "cell_type": "code",
   "execution_count": null,
   "metadata": {},
   "outputs": [],
   "source": []
  }
 ],
 "metadata": {
  "interpreter": {
   "hash": "cef4942554e58a7e03e56b1e1eb9555fe4422e10870b4923c7446a3236ab6a71"
  },
  "kernelspec": {
   "display_name": "Python 3.9.6 64-bit",
   "name": "python3"
  },
  "language_info": {
   "codemirror_mode": {
    "name": "ipython",
    "version": 3
   },
   "file_extension": ".py",
   "mimetype": "text/x-python",
   "name": "python",
   "nbconvert_exporter": "python",
   "pygments_lexer": "ipython3",
   "version": "3.9.6"
  },
  "orig_nbformat": 4
 },
 "nbformat": 4,
 "nbformat_minor": 2
}
